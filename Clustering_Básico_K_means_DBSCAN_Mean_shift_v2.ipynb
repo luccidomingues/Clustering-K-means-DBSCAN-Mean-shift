{
  "cells": [
    {
      "cell_type": "markdown",
      "metadata": {
        "id": "view-in-github",
        "colab_type": "text"
      },
      "source": [
        "<a href=\"https://colab.research.google.com/github/luccidomingues/Clustering-K-means-DBSCAN-Mean-shift/blob/main/Clustering_B%C3%A1sico_K_means_DBSCAN_Mean_shift_v2.ipynb\" target=\"_parent\"><img src=\"https://colab.research.google.com/assets/colab-badge.svg\" alt=\"Open In Colab\"/></a>"
      ]
    },
    {
      "cell_type": "code",
      "source": [
        "import matplotlib.pyplot as plt\n",
        "import pandas as pd\n",
        "import numpy as np"
      ],
      "metadata": {
        "id": "vwcPeEA7oA8W"
      },
      "execution_count": null,
      "outputs": []
    },
    {
      "cell_type": "code",
      "source": [
        "caminho_arquivo = \"/content/gdrive/My Drive/Colab Notebooks/Wine.csv\"\n",
        "df = pd.read_csv(caminho_arquivo) #importando os dados"
      ],
      "metadata": {
        "id": "9I9ukM7FoBXO"
      },
      "execution_count": null,
      "outputs": []
    },
    {
      "cell_type": "code",
      "source": [
        "print(\"O dado possui\",df.shape[0], \"amostras e\", df.shape[1], \"atributos\")"
      ],
      "metadata": {
        "id": "zYs7NyKnoBbC"
      },
      "execution_count": null,
      "outputs": []
    },
    {
      "cell_type": "code",
      "source": [
        "df.head()"
      ],
      "metadata": {
        "id": "NRprf4yRoBeY"
      },
      "execution_count": null,
      "outputs": []
    },
    {
      "cell_type": "code",
      "source": [
        "labels_df = df['Customer_Segment']\n",
        "df = df.drop(columns = 'Customer_Segment')\n",
        "df.head()"
      ],
      "metadata": {
        "id": "wcs3GgS6oBh8"
      },
      "execution_count": null,
      "outputs": []
    },
    {
      "cell_type": "code",
      "source": [
        "df = df.rename(columns = {'Alcohol' : 'Alcool', 'Ash' : 'Po', 'Ash_Alcalinity': 'Alcalinidade_po',\n",
        "                          'Magnesium' : 'Magnesio','Total_Phenols' : 'Total_Fenois',\n",
        "                          'Nonflavanoid_Phenols':'Fenois_nao_flavalonoides','Color_Intensity':'Intensidade_de_cor'})"
      ],
      "metadata": {
        "id": "uQ5VC7hvoBll"
      },
      "execution_count": null,
      "outputs": []
    },
    {
      "cell_type": "code",
      "source": [
        "colunas = df.columns\n",
        "colunas"
      ],
      "metadata": {
        "id": "AHRr0PTUoBpB"
      },
      "execution_count": null,
      "outputs": []
    },
    {
      "cell_type": "code",
      "source": [
        "!pip install biokit"
      ],
      "metadata": {
        "id": "qhyJZ6e4oBs6"
      },
      "execution_count": null,
      "outputs": []
    },
    {
      "cell_type": "code",
      "source": [
        "from biokit.viz import corrplot\n",
        "import matplotlib.pyplot as plt"
      ],
      "metadata": {
        "id": "G87OMDgeoXU5"
      },
      "execution_count": null,
      "outputs": []
    },
    {
      "cell_type": "code",
      "source": [
        "matriz_corr = df.corr()"
      ],
      "metadata": {
        "id": "Fi-XJlD6oXYb"
      },
      "execution_count": null,
      "outputs": []
    },
    {
      "cell_type": "code",
      "source": [
        "corr_graf = corrplot.Corrplot(matriz_corr)\n",
        "corr_graf.plot(upper = 'ellipse', fontsize = 'x-large')"
      ],
      "metadata": {
        "id": "ihsClxL-oXbg"
      },
      "execution_count": null,
      "outputs": []
    },
    {
      "cell_type": "code",
      "source": [
        "fig = plt.gcf()\n",
        "fig.set_size_inches(13,8)\n",
        "fig.show()"
      ],
      "metadata": {
        "id": "tZRYNkRxoXej"
      },
      "execution_count": null,
      "outputs": []
    },
    {
      "cell_type": "code",
      "source": [
        "from sklearn import preprocessing\n",
        "\n",
        "min_max_scaler = preprocessing.MinMaxScaler()\n",
        "np_df = min_max_scaler.fit_transform(df)"
      ],
      "metadata": {
        "id": "5FeOjJouoXhi"
      },
      "execution_count": null,
      "outputs": []
    },
    {
      "cell_type": "code",
      "source": [
        "df = pd.DataFrame(np_df, columns = colunas)"
      ],
      "metadata": {
        "id": "iO1AVSQwoXkh"
      },
      "execution_count": null,
      "outputs": []
    },
    {
      "cell_type": "code",
      "source": [
        "df.describe()"
      ],
      "metadata": {
        "id": "-Tr4L46WoXnU"
      },
      "execution_count": null,
      "outputs": []
    },
    {
      "cell_type": "code",
      "source": [
        "np_df = min_max_scaler.inverse_transform(df)"
      ],
      "metadata": {
        "id": "xaJ_9Lt4oXp6"
      },
      "execution_count": null,
      "outputs": []
    },
    {
      "cell_type": "code",
      "source": [
        "df_nao_normalizado = pd.DataFrame(np_df, columns = colunas)\n",
        "df_nao_normalizado.describe()"
      ],
      "metadata": {
        "id": "mPPUU_U5oXse"
      },
      "execution_count": null,
      "outputs": []
    },
    {
      "cell_type": "code",
      "source": [
        ""
      ],
      "metadata": {
        "id": "ODCWWW-AosbU"
      },
      "execution_count": null,
      "outputs": []
    },
    {
      "cell_type": "code",
      "execution_count": null,
      "metadata": {
        "id": "E0tAdGDsnrB7"
      },
      "outputs": [],
      "source": [
        "from sklearn.cluster import MeanShift"
      ]
    },
    {
      "cell_type": "code",
      "execution_count": null,
      "metadata": {
        "id": "uWDbuetVnrCD"
      },
      "outputs": [],
      "source": [
        "agrupador = MeanShift()\n",
        "agrupador.fit(df)\n",
        "agrupador.labels_"
      ]
    },
    {
      "cell_type": "code",
      "execution_count": null,
      "metadata": {
        "id": "SiaUhkzMnrCE"
      },
      "outputs": [],
      "source": [
        "from sklearn.cluster import estimate_bandwidth"
      ]
    },
    {
      "cell_type": "code",
      "execution_count": null,
      "metadata": {
        "id": "vRlUF7pinrCF"
      },
      "outputs": [],
      "source": [
        "BW = estimate_bandwidth(df, quantile = 0.2)\n",
        "agrupador = MeanShift(bandwidth = BW)\n",
        "agrupador.fit(df)\n",
        "agrupador.labels_"
      ]
    },
    {
      "cell_type": "code",
      "execution_count": null,
      "metadata": {
        "id": "9Tu0Ka6anrCH"
      },
      "outputs": [],
      "source": [
        "BW = estimate_bandwidth(df, quantile = 0.1)\n",
        "agrupador = MeanShift(bandwidth = BW)\n",
        "agrupador.fit(df)\n",
        "agrupador.labels_"
      ]
    },
    {
      "cell_type": "code",
      "execution_count": null,
      "metadata": {
        "id": "6IXAxklCnrCI"
      },
      "outputs": [],
      "source": [
        "BW = estimate_bandwidth(df, quantile = 0.9)\n",
        "agrupador = MeanShift(bandwidth = BW)\n",
        "agrupador.fit(df)\n",
        "agrupador.labels_"
      ]
    },
    {
      "cell_type": "code",
      "execution_count": null,
      "metadata": {
        "id": "gbu2RAZpnrCJ"
      },
      "outputs": [],
      "source": [
        ""
      ]
    },
    {
      "cell_type": "code",
      "execution_count": null,
      "metadata": {
        "id": "5gUkPey2nrCK"
      },
      "outputs": [],
      "source": [
        ""
      ]
    },
    {
      "cell_type": "code",
      "execution_count": null,
      "metadata": {
        "id": "36QmCVb9nrCL"
      },
      "outputs": [],
      "source": [
        ""
      ]
    },
    {
      "cell_type": "code",
      "execution_count": null,
      "metadata": {
        "id": "CsQQR9BsnrCM"
      },
      "outputs": [],
      "source": [
        ""
      ]
    },
    {
      "cell_type": "code",
      "execution_count": null,
      "metadata": {
        "id": "BkzLP0qanrCN"
      },
      "outputs": [],
      "source": [
        ""
      ]
    },
    {
      "cell_type": "code",
      "execution_count": null,
      "metadata": {
        "id": "E6k-TdLpnrCN"
      },
      "outputs": [],
      "source": [
        ""
      ]
    },
    {
      "cell_type": "code",
      "execution_count": null,
      "metadata": {
        "id": "lMmxEbgcnrCO"
      },
      "outputs": [],
      "source": [
        ""
      ]
    }
  ],
  "metadata": {
    "kernelspec": {
      "display_name": "Python 3",
      "language": "python",
      "name": "python3"
    },
    "language_info": {
      "codemirror_mode": {
        "name": "ipython",
        "version": 3
      },
      "file_extension": ".py",
      "mimetype": "text/x-python",
      "name": "python",
      "nbconvert_exporter": "python",
      "pygments_lexer": "ipython3",
      "version": "3.7.6"
    },
    "colab": {
      "name": "Clustering Básico K-means DBSCAN Mean shift_v2.ipynb",
      "provenance": [],
      "include_colab_link": true
    }
  },
  "nbformat": 4,
  "nbformat_minor": 0
}