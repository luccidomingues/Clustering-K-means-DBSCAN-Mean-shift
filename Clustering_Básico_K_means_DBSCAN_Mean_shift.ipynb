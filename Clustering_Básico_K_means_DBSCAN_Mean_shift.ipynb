{
  "cells": [
    {
      "cell_type": "markdown",
      "metadata": {
        "id": "view-in-github",
        "colab_type": "text"
      },
      "source": [
        "<a href=\"https://colab.research.google.com/github/luccidomingues/Clustering-K-means-DBSCAN-Mean-shift/blob/main/Clustering_B%C3%A1sico_K_means_DBSCAN_Mean_shift.ipynb\" target=\"_parent\"><img src=\"https://colab.research.google.com/assets/colab-badge.svg\" alt=\"Open In Colab\"/></a>"
      ]
    },
    {
      "cell_type": "code",
      "execution_count": null,
      "metadata": {
        "id": "NV4Iu4wE6Q4C"
      },
      "outputs": [],
      "source": [
        "import matplotlib.pyplot as plt\n",
        "import pandas as pd\n",
        "import numpy as np"
      ]
    },
    {
      "cell_type": "code",
      "execution_count": null,
      "metadata": {
        "id": "JgkKLn9N6Q4H"
      },
      "outputs": [],
      "source": [
        "caminho_arquivo = \"/content/gdrive/My Drive/Colab Notebooks/Wine.csv\"\n",
        "df = pd.read_csv(caminho_arquivo) #importando os dados"
      ]
    },
    {
      "cell_type": "code",
      "execution_count": null,
      "metadata": {
        "id": "t2zNkUQD6Q4J"
      },
      "outputs": [],
      "source": [
        "print(\"O dado possui\",df.shape[0], \"amostras e\", df.shape[1], \"atributos\")"
      ]
    },
    {
      "cell_type": "code",
      "execution_count": null,
      "metadata": {
        "id": "gtkydpSI6Q4L"
      },
      "outputs": [],
      "source": [
        "df.head()"
      ]
    },
    {
      "cell_type": "code",
      "execution_count": null,
      "metadata": {
        "id": "OnVt9gAj6Q4M"
      },
      "outputs": [],
      "source": [
        "labels_df = df['Customer_Segment']\n",
        "df = df.drop(columns = 'Customer_Segment')\n",
        "df.head()\n"
      ]
    },
    {
      "cell_type": "code",
      "execution_count": null,
      "metadata": {
        "id": "h-qkpzY16Q4O"
      },
      "outputs": [],
      "source": [
        "df = df.rename(columns = {'Alcohol' : 'Alcool', 'Ash' : 'Po', 'Ash_Alcalinity': 'Alcalinidade_po',\n",
        "                          'Magnesium' : 'Magnesio','Total_Phenols' : 'Total_Fenois',\n",
        "                          'Nonflavanoid_Phenols':'Fenois_nao_flavalonoides','Color_Intensity':'Intensidade_de_cor'})"
      ]
    },
    {
      "cell_type": "code",
      "execution_count": null,
      "metadata": {
        "id": "UXeuMEL66Q4Q"
      },
      "outputs": [],
      "source": [
        "colunas = df.columns\n",
        "colunas\n"
      ]
    },
    {
      "cell_type": "code",
      "execution_count": null,
      "metadata": {
        "id": "1twkGYlS6Q4T"
      },
      "outputs": [],
      "source": [
        "!pip install biokit"
      ]
    },
    {
      "cell_type": "code",
      "execution_count": null,
      "metadata": {
        "id": "xEFxFoMX6Q4U"
      },
      "outputs": [],
      "source": [
        "from biokit.viz import corrplot\n",
        "import matplotlib.pyplot as plt"
      ]
    },
    {
      "cell_type": "code",
      "execution_count": null,
      "metadata": {
        "id": "pkduaVfR6Q4X"
      },
      "outputs": [],
      "source": [
        "matriz_corr = df.corr()"
      ]
    },
    {
      "cell_type": "code",
      "execution_count": null,
      "metadata": {
        "id": "_V8KT75R6Q4Y"
      },
      "outputs": [],
      "source": [
        "corr_graf = corrplot.Corrplot(matriz_corr)\n",
        "corr_graf.plot(upper = 'ellipse', fontsize = 'x-large')"
      ]
    },
    {
      "cell_type": "code",
      "execution_count": null,
      "metadata": {
        "id": "Bt7ob_kA6Q4Z"
      },
      "outputs": [],
      "source": [
        "fig = plt.gcf()\n",
        "fig.set_size_inches(13,8)\n",
        "fig.show()\n"
      ]
    },
    {
      "cell_type": "code",
      "execution_count": null,
      "metadata": {
        "id": "n_v6jyvI6Q4a"
      },
      "outputs": [],
      "source": [
        "from sklearn import preprocessing\n",
        "\n",
        "min_max_scaler = preprocessing.MinMaxScaler()\n",
        "np_df = min_max_scaler.fit_transform(df)"
      ]
    },
    {
      "cell_type": "code",
      "execution_count": null,
      "metadata": {
        "id": "wjLxh5eS6Q4b"
      },
      "outputs": [],
      "source": [
        "df = pd.DataFrame(np_df, columns = colunas)"
      ]
    },
    {
      "cell_type": "code",
      "execution_count": null,
      "metadata": {
        "id": "ZOPkDoAp6Q4c"
      },
      "outputs": [],
      "source": [
        "df.describe()"
      ]
    },
    {
      "cell_type": "code",
      "execution_count": null,
      "metadata": {
        "id": "HWSongfa6Q4d"
      },
      "outputs": [],
      "source": [
        "np_df = min_max_scaler.inverse_transform(df)\n"
      ]
    },
    {
      "cell_type": "code",
      "execution_count": null,
      "metadata": {
        "id": "GerRP8J86Q4e"
      },
      "outputs": [],
      "source": [
        "df_nao_normalizado = pd.DataFrame(np_df, columns = colunas)\n",
        "df_nao_normalizado.describe()"
      ]
    }
  ],
  "metadata": {
    "kernelspec": {
      "display_name": "Python 3",
      "language": "python",
      "name": "python3"
    },
    "language_info": {
      "codemirror_mode": {
        "name": "ipython",
        "version": 3
      },
      "file_extension": ".py",
      "mimetype": "text/x-python",
      "name": "python",
      "nbconvert_exporter": "python",
      "pygments_lexer": "ipython3",
      "version": "3.7.6"
    },
    "colab": {
      "name": "Clustering Básico K-means DBSCAN Mean shift.ipynb",
      "provenance": [],
      "include_colab_link": true
    }
  },
  "nbformat": 4,
  "nbformat_minor": 0
}